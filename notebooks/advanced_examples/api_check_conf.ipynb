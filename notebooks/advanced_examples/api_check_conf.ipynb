{
 "cells": [
  {
   "cell_type": "markdown",
   "id": "3311ab29",
   "metadata": {},
   "source": [
    "# API check conf pandora"
   ]
  },
  {
   "cell_type": "markdown",
   "id": "82d86b5f",
   "metadata": {},
   "source": [
    "*This notebook is used to test the new* «check_pipeline_section» *function*."
   ]
  },
  {
   "cell_type": "markdown",
   "id": "888eb507",
   "metadata": {},
   "source": [
    " ## 1. \"Pandora\" version : user config with input + pipeline"
   ]
  },
  {
   "cell_type": "markdown",
   "id": "704eeb13",
   "metadata": {},
   "source": [
    "### Import"
   ]
  },
  {
   "cell_type": "code",
   "execution_count": null,
   "id": "80b6fcf6",
   "metadata": {},
   "outputs": [],
   "source": [
    "from pandora import import_plugin\n",
    "from pandora.check_configuration import (\n",
    "    check_conf,\n",
    "    get_config_input,\n",
    "    check_input_section,\n",
    "    get_config_pipeline,\n",
    "    check_pipeline_section,\n",
    "    concat_conf\n",
    ")\n",
    "from pandora.state_machine import PandoraMachine\n",
    "from pandora.img_tools import rasterio_open, get_metadata\n",
    "\n",
    "import xarray as xr\n",
    "import pprint\n",
    "\n",
    "pp = pprint.PrettyPrinter(indent=4)"
   ]
  },
  {
   "cell_type": "markdown",
   "id": "d3118f7e",
   "metadata": {},
   "source": [
    "### Define user config"
   ]
  },
  {
   "cell_type": "code",
   "execution_count": null,
   "id": "d0171881",
   "metadata": {},
   "outputs": [],
   "source": [
    "user_cfg = {\n",
    "    \"input\":\n",
    "    {\n",
    "        \"img_left\":\"../data/left_rgb.tif\",\n",
    "        \"img_right\":\"../data/right_rgb.tif\",\n",
    "        \"disp_left\": [-60, 0],\n",
    "    },\n",
    "    \"pipeline\":\n",
    "    {\n",
    "        \"matching_cost\": {\"matching_cost_method\": \"zncc\", \"band\": \"r\"},\n",
    "        \"optimization\": {\"optimization_method\": \"sgm\"},\n",
    "        \"disparity\": {\"disparity_method\": \"wta\"},\n",
    "        \"filter\": {\"filter_method\": \"median\"},\n",
    "        \"refinement\": {\"refinement_method\": \"quadratic\"},\n",
    "        \"validation\": {\"validation_method\": \"cross_checking_accurate\"}\n",
    "    }\n",
    "}"
   ]
  },
  {
   "cell_type": "markdown",
   "id": "7e26b840",
   "metadata": {},
   "source": [
    "### Import pandora plugins (sgm)"
   ]
  },
  {
   "cell_type": "code",
   "execution_count": null,
   "id": "079918b4",
   "metadata": {},
   "outputs": [],
   "source": [
    "import_plugin()"
   ]
  },
  {
   "cell_type": "markdown",
   "id": "9eebd7d7",
   "metadata": {},
   "source": [
    "### Instantiate a pandora machine"
   ]
  },
  {
   "cell_type": "code",
   "execution_count": null,
   "id": "d3c70c47",
   "metadata": {},
   "outputs": [],
   "source": [
    "pandora_machine = PandoraMachine()"
   ]
  },
  {
   "cell_type": "markdown",
   "id": "0001b8da",
   "metadata": {},
   "source": [
    "### Run check config"
   ]
  },
  {
   "cell_type": "markdown",
   "id": "63ce3c7c",
   "metadata": {},
   "source": [
    "**Check input**"
   ]
  },
  {
   "cell_type": "code",
   "execution_count": null,
   "id": "b8750c5f",
   "metadata": {},
   "outputs": [],
   "source": [
    "user_cfg_input = get_config_input(user_cfg)\n",
    "cfg_input = check_input_section(user_cfg_input)\n",
    "pp.pprint(cfg_input)"
   ]
  },
  {
   "cell_type": "markdown",
   "id": "dacacc1e",
   "metadata": {},
   "source": [
    "**Check pipeline**"
   ]
  },
  {
   "cell_type": "code",
   "execution_count": null,
   "id": "61d09c86",
   "metadata": {},
   "outputs": [],
   "source": [
    "user_cfg_pipeline = get_config_pipeline(user_cfg)\n",
    "metadata_left = get_metadata(\n",
    "    cfg_input[\"input\"][\"img_left\"],\n",
    "    cfg_input[\"input\"][\"disp_left\"],\n",
    ")\n",
    "metadata_right = get_metadata(\n",
    "    cfg_input[\"input\"][\"img_right\"], \n",
    "    cfg_input[\"input\"][\"disp_right\"],\n",
    ")"
   ]
  },
  {
   "cell_type": "code",
   "execution_count": null,
   "id": "bb3d83c6",
   "metadata": {},
   "outputs": [],
   "source": [
    "cfg_pipeline = check_pipeline_section(user_cfg_pipeline, metadata_left, metadata_right, pandora_machine)\n",
    "pp.pprint(cfg_pipeline)"
   ]
  },
  {
   "cell_type": "markdown",
   "id": "a6416b8f",
   "metadata": {},
   "source": [
    "**update config**"
   ]
  },
  {
   "cell_type": "code",
   "execution_count": null,
   "id": "a81a62a0",
   "metadata": {},
   "outputs": [],
   "source": [
    "cfg_update = concat_conf([cfg_input, cfg_pipeline])\n",
    "pp.pprint(cfg_update)"
   ]
  },
  {
   "cell_type": "markdown",
   "id": "7e77eb90",
   "metadata": {},
   "source": [
    "## 2. \"CARS\" version : user config with only pipeline and xr.Dataset list"
   ]
  },
  {
   "cell_type": "markdown",
   "id": "23029f28",
   "metadata": {},
   "source": [
    "### Define user config"
   ]
  },
  {
   "cell_type": "code",
   "execution_count": null,
   "id": "66f11d4c",
   "metadata": {},
   "outputs": [],
   "source": [
    "user_cfg_pipeline = {\n",
    "    \"pipeline\":\n",
    "    {\n",
    "        \"matching_cost\": {\"matching_cost_method\": \"zncc\", \"band\": \"r\"},\n",
    "        \"optimization\": {\"optimization_method\": \"sgm\"},\n",
    "        \"disparity\": {\"disparity_method\": \"wta\"},\n",
    "        \"filter\": {\"filter_method\": \"median\"},\n",
    "        \"refinement\": {\"refinement_method\": \"quadratic\"},\n",
    "        \"validation\": {\"validation_method\": \"cross_checking_accurate\"}\n",
    "    }\n",
    "}"
   ]
  },
  {
   "cell_type": "markdown",
   "id": "6b19a881",
   "metadata": {},
   "source": [
    "### Instantiate a pandora machine"
   ]
  },
  {
   "cell_type": "code",
   "execution_count": null,
   "id": "8f3b6a65",
   "metadata": {},
   "outputs": [],
   "source": [
    "pandora_machine = PandoraMachine()"
   ]
  },
  {
   "cell_type": "markdown",
   "id": "850adb0b",
   "metadata": {},
   "source": [
    "### image paths with disparities"
   ]
  },
  {
   "cell_type": "code",
   "execution_count": null,
   "id": "a3ca7451",
   "metadata": {},
   "outputs": [],
   "source": [
    "disp_min = -60\n",
    "disp_max = 0\n",
    "img_left_path = \"../data/left_rgb.tif\"\n",
    "img_right_path = \"../data/right_rgb.tif\""
   ]
  },
  {
   "cell_type": "markdown",
   "id": "ec4a597e",
   "metadata": {},
   "source": [
    "### Run check config : only pipeline"
   ]
  },
  {
   "cell_type": "markdown",
   "id": "c1b98b96",
   "metadata": {},
   "source": [
    "**Check pipeline**"
   ]
  },
  {
   "cell_type": "code",
   "execution_count": null,
   "id": "a61637f0",
   "metadata": {},
   "outputs": [],
   "source": [
    "metadata_left = get_metadata(img_left_path, (disp_min, disp_max))\n",
    "metadata_right = get_metadata(img_right_path, disparity=None)"
   ]
  },
  {
   "cell_type": "code",
   "execution_count": null,
   "id": "148a2316",
   "metadata": {},
   "outputs": [],
   "source": [
    "cfg_pipeline = check_pipeline_section(user_cfg_pipeline, metadata_left, metadata_right, pandora_machine)\n",
    "pp.pprint(cfg_pipeline)"
   ]
  },
  {
   "cell_type": "markdown",
   "id": "2744ee64",
   "metadata": {},
   "source": [
    "## 3. \"Pandora\" version : user config with all options"
   ]
  },
  {
   "cell_type": "markdown",
   "id": "3552e955",
   "metadata": {},
   "source": [
    "### Instantiate a pandora machine"
   ]
  },
  {
   "cell_type": "code",
   "execution_count": null,
   "id": "26ee255d",
   "metadata": {},
   "outputs": [],
   "source": [
    "pandora_machine = PandoraMachine()"
   ]
  },
  {
   "cell_type": "markdown",
   "id": "2e78cef7",
   "metadata": {},
   "source": [
    "### User cfg"
   ]
  },
  {
   "cell_type": "code",
   "execution_count": null,
   "id": "2eb03d52",
   "metadata": {},
   "outputs": [],
   "source": [
    "user_cfg = {\n",
    "    \"input\":\n",
    "    {\n",
    "        \"img_left\": \"../../tests/pandora/left_rgb.tif\",\n",
    "        \"img_right\": \"../../tests/pandora/right_rgb.tif\",\n",
    "        \"disp_left\": [-60, 0],\n",
    "        \"left_classif\": \"../../tests/pandora/left_classif.tif\",\n",
    "        \"right_classif\": \"../../tests/pandora/right_classif.tif\"\n",
    "    },\n",
    "    \"pipeline\":\n",
    "    {\n",
    "        \"matching_cost\": {\"matching_cost_method\": \"zncc\", \"band\": \"r\"},\n",
    "        \"aggregation\": {\"aggregation_method\": \"cbca\"},\n",
    "        \"optimization\": {\"optimization_method\": \"sgm\"},\n",
    "        \"disparity\": {\"disparity_method\": \"wta\"},\n",
    "        \"filter\": {\"filter_method\": \"median\"},\n",
    "        \"refinement\": {\"refinement_method\": \"quadratic\"},\n",
    "        \"validation\": {\"validation_method\": \"cross_checking_accurate\"},\n",
    "        \"multiscale\": {\"multiscale_method\": \"fixed_zoom_pyramid\", \"num_scales\": 3}\n",
    "    }\n",
    "}"
   ]
  },
  {
   "cell_type": "markdown",
   "id": "1a52bc97",
   "metadata": {},
   "source": [
    "### Run check config "
   ]
  },
  {
   "cell_type": "markdown",
   "id": "4499ac47",
   "metadata": {},
   "source": [
    "**Check input**"
   ]
  },
  {
   "cell_type": "code",
   "execution_count": null,
   "id": "ff804336",
   "metadata": {},
   "outputs": [],
   "source": [
    "user_cfg_input = get_config_input(user_cfg)\n",
    "cfg_input = check_input_section(user_cfg_input)\n",
    "pp.pprint(cfg_input)"
   ]
  },
  {
   "cell_type": "markdown",
   "id": "ba4d40be",
   "metadata": {},
   "source": [
    "**Check pipeline**"
   ]
  },
  {
   "cell_type": "code",
   "execution_count": null,
   "id": "61cbb844",
   "metadata": {},
   "outputs": [],
   "source": [
    "user_cfg_pipeline = get_config_pipeline(user_cfg)\n",
    "metadata_left = get_metadata(\n",
    "    cfg_input[\"input\"][\"img_left\"],\n",
    "    cfg_input[\"input\"][\"disp_left\"],\n",
    "    cfg_input[\"input\"][\"left_classif\"]\n",
    ")\n",
    "metadata_right = get_metadata(\n",
    "    cfg_input[\"input\"][\"img_right\"],\n",
    "    cfg_input[\"input\"][\"disp_right\"],\n",
    "    cfg_input[\"input\"][\"right_classif\"]\n",
    ")"
   ]
  },
  {
   "cell_type": "code",
   "execution_count": null,
   "id": "bd4eb726",
   "metadata": {},
   "outputs": [],
   "source": [
    "cfg_pipeline = check_pipeline_section(user_cfg_pipeline, metadata_left, metadata_right, pandora_machine)\n",
    "pp.pprint(cfg_pipeline)"
   ]
  }
 ],
 "metadata": {
  "kernelspec": {
   "display_name": "Python 3 (ipykernel)",
   "language": "python",
   "name": "python3"
  },
  "language_info": {
   "codemirror_mode": {
    "name": "ipython",
    "version": 3
   },
   "file_extension": ".py",
   "mimetype": "text/x-python",
   "name": "python",
   "nbconvert_exporter": "python",
   "pygments_lexer": "ipython3",
   "version": "3.8.5"
  }
 },
 "nbformat": 4,
 "nbformat_minor": 5
}
