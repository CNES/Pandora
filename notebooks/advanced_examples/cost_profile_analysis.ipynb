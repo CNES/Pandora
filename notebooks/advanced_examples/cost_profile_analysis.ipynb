{
 "cells": [
  {
   "cell_type": "code",
   "execution_count": null,
   "metadata": {},
   "outputs": [],
   "source": [
    "import os\n",
    "import sys\n",
    "import importlib\n",
    "import logging\n",
    "import pprint\n",
    "import numpy as np\n",
    "from pathlib import Path \n",
    "import xarray as xr\n",
    "import copy\n",
    "import warnings\n",
    "warnings.filterwarnings('ignore')\n",
    "from transitions.extensions import GraphMachine as Machine"
   ]
  },
  {
   "cell_type": "code",
   "execution_count": null,
   "metadata": {},
   "outputs": [],
   "source": [
    "import pandora\n",
    "from pandora.img_tools import read_img\n",
    "from pandora.check_json import check_pipeline_section, concat_conf\n",
    "from pandora.state_machine import PandoraMachine\n",
    "from pandora import import_plugin, check_conf"
   ]
  },
  {
   "cell_type": "code",
   "execution_count": null,
   "metadata": {},
   "outputs": [],
   "source": [
    "# Load plugins\n",
    "import_plugin()"
   ]
  },
  {
   "cell_type": "markdown",
   "metadata": {},
   "source": [
    "# Compute a cost volume and a disparity map"
   ]
  },
  {
   "cell_type": "code",
   "execution_count": null,
   "metadata": {},
   "outputs": [],
   "source": [
    "# Paths to left and right images\n",
    "img_left_path = \"../data/Cones_LEFT.tif\"\n",
    "img_right_path = \"../data/Cones_RIGHT.tif\"\n",
    "# Paths to masks (None if not provided)\n",
    "left_mask_path = None\n",
    "right_mask_path = None"
   ]
  },
  {
   "cell_type": "code",
   "execution_count": null,
   "metadata": {},
   "outputs": [],
   "source": [
    "image_cfg = {'image': {'no_data_left': np.nan, 'no_data_right': np.nan}}\n",
    "img_left = read_img(img_left_path, no_data=image_cfg['image']['no_data_left'],\n",
    "                       mask=left_mask_path)\n",
    "img_right = read_img(img_right_path, no_data=image_cfg['image']['no_data_right'],\n",
    "                       mask=right_mask_path)"
   ]
  },
  {
   "cell_type": "code",
   "execution_count": null,
   "metadata": {},
   "outputs": [],
   "source": [
    "disp_min = -60\n",
    "disp_max = 0"
   ]
  },
  {
   "cell_type": "code",
   "execution_count": null,
   "metadata": {},
   "outputs": [],
   "source": [
    " pandora_machine = PandoraMachine()"
   ]
  },
  {
   "cell_type": "code",
   "execution_count": null,
   "metadata": {},
   "outputs": [],
   "source": [
    " user_pipeline_cfg = {\n",
    "    'pipeline':\n",
    "  {\n",
    "    \"right_disp_map\": {\n",
    "      \"method\": \"accurate\"\n",
    "    },\n",
    "    \"matching_cost\" : {\n",
    "      \"matching_cost_method\": \"zncc\",\n",
    "      \"window_size\": 5,\n",
    "      \"subpix\": 1\n",
    "    },\n",
    "    \"disparity\": {\n",
    "          \"disparity_method\": \"wta\",\n",
    "          \"invalid_disparity\": \"NaN\"\n",
    "    },\n",
    "    \"validation\" : {\n",
    "          \"validation_method\": \"cross_checking\",\n",
    "          \"cross_checking_threshold\": 1\n",
    "    }\n",
    "  }\n",
    "}"
   ]
  },
  {
   "cell_type": "code",
   "execution_count": null,
   "metadata": {},
   "outputs": [],
   "source": [
    "checked_cfg = check_pipeline_section(user_pipeline_cfg, pandora_machine)\n",
    "pipeline_cfg = checked_cfg['pipeline']"
   ]
  },
  {
   "cell_type": "code",
   "execution_count": null,
   "metadata": {},
   "outputs": [],
   "source": [
    "pandora_machine.run_prepare(pipeline_cfg, img_left, img_right, disp_min, disp_max)"
   ]
  },
  {
   "cell_type": "code",
   "execution_count": null,
   "metadata": {},
   "outputs": [],
   "source": [
    "pandora_machine.run('matching_cost', pipeline_cfg)\n",
    "pandora_machine.run('disparity', pipeline_cfg)\n",
    "pandora_machine.run('validation', pipeline_cfg)"
   ]
  },
  {
   "cell_type": "code",
   "execution_count": null,
   "metadata": {},
   "outputs": [],
   "source": [
    "left_cv = copy.deepcopy(pandora_machine.left_cv)\n",
    "right_cv = copy.deepcopy(pandora_machine.right_cv)\n",
    "\n",
    "left_disparity_map= copy.deepcopy(pandora_machine.left_disparity)\n",
    "right_disparity_map= copy.deepcopy(pandora_machine.right_disparity)"
   ]
  },
  {
   "cell_type": "markdown",
   "metadata": {},
   "source": [
    "# Draw cost profil for a disparity map point (on click event)"
   ]
  },
  {
   "cell_type": "code",
   "execution_count": null,
   "metadata": {},
   "outputs": [],
   "source": [
    " import bokeh\n",
    "from bokeh.io import output_notebook, show\n",
    "import bokeh.plotting as bpl\n",
    "from bokeh.plotting import figure\n",
    "from bokeh.layouts import row, column, gridplot\n",
    "from bokeh.models import LabelSet, Label, CheckboxGroup, BoxAnnotation, ColorBar, CheckboxButtonGroup, Panel, Tabs, ColumnDataSource, CustomJS, Slider, LinearColorMapper, Label\n",
    "from bokeh import events\n",
    "from bokeh.models.renderers import GlyphRenderer"
   ]
  },
  {
   "cell_type": "code",
   "execution_count": null,
   "metadata": {},
   "outputs": [],
   "source": [
    "output_notebook()\n",
    "\n",
    "# Function for deleting glyphs on figure\n",
    "def remove_glyphs(figure, glyph_name_list):\n",
    "    renderers = figure.select(dict(type=GlyphRenderer))\n",
    "    for r in renderers:\n",
    "        if r.name in glyph_name_list:\n",
    "            col = r.glyph.y\n",
    "            r.data_source.data[col] = [np.nan] * len(r.data_source.data[col])\n",
    "\n",
    "def modify_doc(doc):   \n",
    "    #TOOLS = \"pan, wheel_zoom, reset, save, box_zoom, box_select, tap\"\n",
    "    TOOLS = \"pan, reset, save, hover, box_zoom, box_select, tap\"\n",
    "    nb_row, nb_col = left_disparity_map[\"disparity_map\"].data.shape\n",
    "\n",
    "    # Figs[row]\n",
    "    \n",
    "    # Fig[0]:\n",
    "    # Disp map\n",
    "    source_dispmap = ColumnDataSource(data = dict(image=[np.flip(left_disparity_map[\"disparity_map\"].data, axis=0)])\n",
    "                                    )\n",
    "    min_d = np.nanmin(left_disparity_map[\"disparity_map\"].data)\n",
    "    max_d = np.nanmax(left_disparity_map[\"disparity_map\"].data)\n",
    "    \n",
    "    colormapper_image = LinearColorMapper(palette=\"Greys256\",low=min_d, high=max_d)\n",
    "    \n",
    "    fig_0 = figure(tools=TOOLS, \n",
    "                        title=\"Disparity map\", \n",
    "                        output_backend=\"webgl\")\n",
    "    fig_0.image(image='image', x=0, y=0,\n",
    "                 dw=nb_col, \n",
    "                 dh=nb_row, \n",
    "                 source=source_dispmap, \n",
    "                 color_mapper=colormapper_image)\n",
    "    \n",
    "    # Fig[1]:\n",
    "    # Cost profile\n",
    "    fig_cost_profile = figure(tools=TOOLS, \n",
    "                      title=\"Cost profile\", \n",
    "                      output_backend=\"webgl\",\n",
    "                      x_axis_label='Disparity', \n",
    "                      y_axis_label='Cost')\n",
    "\n",
    "    def callback_draw_cost_profil(event):\n",
    "        if (event.event_name == 'mousemove' or event.event_name == 'tap'):\n",
    "            if (event.x >= 0) and (event.x < nb_col) and(event.y >= 0) and (event.y < nb_row):\n",
    "                event_x = int(event.x)\n",
    "                event_y = nb_row-1-int(event.y)\n",
    "                event_y_bokeh = int(event.y)\n",
    "                \n",
    "                disps = left_cv.disp.data\n",
    "                costs = left_cv['cost_volume'].data[event_y,event_x,:]\n",
    "    \n",
    "                fig_cost_profile.line(disps, costs, color=\"navy\", line_width=1, name='cp')\n",
    "\n",
    "    fig_0.on_event(events.Tap, callback_draw_cost_profil)\n",
    "        \n",
    "    def callback_reset_profile(event):\n",
    "        remove_glyphs(fig_cost_profile, ['cp'])\n",
    "\n",
    "    fig_cost_profile.on_event(events.Reset, callback_reset_profile)\n",
    "    \n",
    "    layout = column(fig_0, fig_cost_profile)\n",
    "    doc.add_root(layout)\n",
    "        \n",
    "\n"
   ]
  },
  {
   "cell_type": "markdown",
   "metadata": {},
   "source": [
    "#### Unfortunately, the following function does not work with Binder, given the current network incompatibilities between Binder-Jupyter-Bokehserver. \n",
    "\n",
    "#### To do so, please run the notebook locally."
   ]
  },
  {
   "cell_type": "code",
   "execution_count": null,
   "metadata": {},
   "outputs": [],
   "source": [
    "show(modify_doc)"
   ]
  },
  {
   "cell_type": "code",
   "execution_count": null,
   "metadata": {},
   "outputs": [],
   "source": []
  }
 ],
 "metadata": {
  "kernelspec": {
   "display_name": "Python 3",
   "language": "python",
   "name": "python3"
  },
  "language_info": {
   "codemirror_mode": {
    "name": "ipython",
    "version": 3
   },
   "file_extension": ".py",
   "mimetype": "text/x-python",
   "name": "python",
   "nbconvert_exporter": "python",
   "pygments_lexer": "ipython3",
   "version": "3.6.9"
  }
 },
 "nbformat": 4,
 "nbformat_minor": 4
}
